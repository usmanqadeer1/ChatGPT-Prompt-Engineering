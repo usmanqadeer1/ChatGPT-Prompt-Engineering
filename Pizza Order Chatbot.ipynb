{
 "cells": [
  {
   "cell_type": "markdown",
   "id": "6128c73d-8bfe-48bd-a11e-c98374f79fec",
   "metadata": {},
   "source": [
    "# The Chat Format\n",
    "\n",
    "In this notebook, you will explore how you can utilize the chat format to have extended conversations with chatbots personalized or specialized for specific tasks or behaviors.\n",
    "\n",
    "## Setup"
   ]
  },
  {
   "cell_type": "code",
   "execution_count": 37,
   "id": "38011281-690e-406c-87e5-a656e34eeb9b",
   "metadata": {},
   "outputs": [],
   "source": [
    "import os\n",
    "import openai\n",
    "from dotenv import load_dotenv, find_dotenv\n",
    "_ = load_dotenv(find_dotenv()) # read local .env file\n",
    "\n",
    "openai.api_key  = os.getenv('OPENAI_API_KEY')"
   ]
  },
  {
   "cell_type": "code",
   "execution_count": 38,
   "id": "741bc486-f93c-4f31-81da-c6d992183525",
   "metadata": {},
   "outputs": [],
   "source": [
    "def get_completion(prompt, model=\"gpt-3.5-turbo\"):\n",
    "    messages = [{\"role\": \"user\", \"content\": prompt}]\n",
    "    response = openai.chat.completions.create(\n",
    "        model=model,\n",
    "        messages=messages,\n",
    "        temperature=0, # this is the degree of randomness of the model's output\n",
    "    )\n",
    "    return response.choices[0].message.content\n",
    "\n",
    "def get_completion_from_messages(messages, model=\"gpt-3.5-turbo\", temperature=0):\n",
    "    response = openai.chat.completions.create(\n",
    "        model=model,\n",
    "        messages=messages,\n",
    "        temperature=temperature, # this is the degree of randomness of the model's output\n",
    "    )\n",
    "    return response.choices[0].message.content"
   ]
  },
  {
   "cell_type": "markdown",
   "id": "57dcdbe2-6f30-42ce-9363-153ab9527817",
   "metadata": {},
   "source": [
    "# OrderBot\n",
    "We can automate the collection of user prompts and assistant responses to build a  OrderBot. The OrderBot will take orders at a pizza restaurant. "
   ]
  },
  {
   "cell_type": "code",
   "execution_count": 39,
   "id": "a399c9f3-49aa-4bea-947d-32d365d49de4",
   "metadata": {},
   "outputs": [],
   "source": [
    "context = [ {'role':'system', 'content':\"\"\"\n",
    "You are OrderBot, an automated service to collect orders for a pizza restaurant. \\\n",
    "You first greet the customer, then collects the order, \\\n",
    "and then asks if it's a pickup or delivery. \\\n",
    "You wait to collect the entire order, then summarize it and check for a final \\\n",
    "time if the customer wants to add anything else. \\\n",
    "If it's a delivery, you ask for an address. \\\n",
    "Finally you collect the payment.\\\n",
    "Make sure to clarify all options, extras and sizes to uniquely \\\n",
    "identify the item from the menu.\\\n",
    "You respond in a short, very conversational friendly style. \\\n",
    "The menu includes \\\n",
    "pepperoni pizza  12.95, 10.00, 7.00 \\\n",
    "cheese pizza   10.95, 9.25, 6.50 \\\n",
    "eggplant pizza   11.95, 9.75, 6.75 \\\n",
    "fries 4.50, 3.50 \\\n",
    "greek salad 7.25 \\\n",
    "Toppings: \\\n",
    "extra cheese 2.00, \\\n",
    "mushrooms 1.50 \\\n",
    "sausage 3.00 \\\n",
    "canadian bacon 3.50 \\\n",
    "AI sauce 1.50 \\\n",
    "peppers 1.00 \\\n",
    "Drinks: \\\n",
    "coke 3.00, 2.00, 1.00 \\\n",
    "sprite 3.00, 2.00, 1.00 \\\n",
    "bottled water 5.00 \\\n",
    "\"\"\"} ]  # accumulate messages"
   ]
  },
  {
   "cell_type": "code",
   "execution_count": 41,
   "id": "d3a44aec-5f0b-4412-b789-718ffb45a36b",
   "metadata": {},
   "outputs": [
    {
     "data": {
      "application/vnd.jupyter.widget-view+json": {
       "model_id": "3032ded654034d97bde259ea746cc79e",
       "version_major": 2,
       "version_minor": 0
      },
      "text/plain": [
       "VBox(children=(HTML(value='<h1>OrderBot: Automated Pizza Ordering System</h1>'), Text(value='Hi', placeholder=…"
      ]
     },
     "metadata": {},
     "output_type": "display_data"
    }
   ],
   "source": [
    "import ipywidgets as widgets\n",
    "from IPython.display import display\n",
    "# Define widgets\n",
    "title = widgets.HTML(\"<h1>OrderBot: Automated Pizza Ordering System</h1>\")\n",
    "user_input = widgets.Text(value=\"Hi\", placeholder='Enter text here…')\n",
    "button = widgets.Button(description=\"Chat!\")\n",
    "output = widgets.Output()\n",
    "def on_button_clicked(b):\n",
    "    with output:\n",
    "        prompt = user_input.value\n",
    "        print(f\"User: {prompt}\")\n",
    "        context.append({\"role\": \"user\", \"content\": prompt})\n",
    "        response = get_completion_from_messages(context, temperature=1)\n",
    "        print(f\"OrderBot: {response}\")\n",
    "        # bot_response = response.choices[0].message.content.strip()\n",
    "        context.append({\"role\": \"assistant\", \"content\": response})\n",
    "\n",
    "button.on_click(on_button_clicked)\n",
    "\n",
    "# Display widgets in a vertical box\n",
    "dashboard = widgets.VBox([title, user_input, button, output])\n",
    "display(dashboard)"
   ]
  },
  {
   "cell_type": "code",
   "execution_count": 42,
   "id": "71c0b195-1380-4c5a-8948-cf3ea67c5bc7",
   "metadata": {},
   "outputs": [
    {
     "name": "stdout",
     "output_type": "stream",
     "text": [
      "{\n",
      "    \"pizza\": \"Pepperoni Pizza - $12.95\",\n",
      "    \"toppings\": [\"Extra Cheese - $2.00\"],\n",
      "    \"drinks\": [\"Sprite - $3.00\"],\n",
      "    \"sides\": [\"Sausage - $3.00\"],\n",
      "    \"total price\": \"$18.95\"\n",
      "}\n"
     ]
    }
   ],
   "source": [
    "messages =  context.copy()\n",
    "messages.append(\n",
    "{'role':'system', 'content':'create a json summary of the previous food order. Itemize the price for each item\\\n",
    " The fields should be 1) pizza, include size 2) list of toppings 3) list of drinks, include size   4) list of sides include size  5)total price '},    \n",
    ")\n",
    " #The fields should be 1) pizza, price 2) list of toppings 3) list of drinks, include size include price  4) list of sides include size include price, 5)total price '},    \n",
    "\n",
    "response = get_completion_from_messages(messages, temperature=0)\n",
    "print(response)"
   ]
  },
  {
   "cell_type": "code",
   "execution_count": null,
   "id": "989525d2-0665-4c09-ba72-0cb824f8b646",
   "metadata": {},
   "outputs": [],
   "source": []
  }
 ],
 "metadata": {
  "kernelspec": {
   "display_name": "Python 3 (ipykernel)",
   "language": "python",
   "name": "python3"
  },
  "language_info": {
   "codemirror_mode": {
    "name": "ipython",
    "version": 3
   },
   "file_extension": ".py",
   "mimetype": "text/x-python",
   "name": "python",
   "nbconvert_exporter": "python",
   "pygments_lexer": "ipython3",
   "version": "3.11.4"
  }
 },
 "nbformat": 4,
 "nbformat_minor": 5
}
